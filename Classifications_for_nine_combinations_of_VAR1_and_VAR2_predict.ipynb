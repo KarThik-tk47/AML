{
  "nbformat": 4,
  "nbformat_minor": 0,
  "metadata": {
    "colab": {
      "provenance": [],
      "authorship_tag": "ABX9TyNw/Nm9nXEfWc/NLfFy3fjE",
      "include_colab_link": true
    },
    "kernelspec": {
      "name": "python3",
      "display_name": "Python 3"
    },
    "language_info": {
      "name": "python"
    }
  },
  "cells": [
    {
      "cell_type": "markdown",
      "metadata": {
        "id": "view-in-github",
        "colab_type": "text"
      },
      "source": [
        "<a href=\"https://colab.research.google.com/github/KarThik-tk47/AML/blob/main/Classifications_for_nine_combinations_of_VAR1_and_VAR2_predict.ipynb\" target=\"_parent\"><img src=\"https://colab.research.google.com/assets/colab-badge.svg\" alt=\"Open In Colab\"/></a>"
      ]
    },
    {
      "cell_type": "code",
      "execution_count": null,
      "metadata": {
        "colab": {
          "base_uri": "https://localhost:8080/"
        },
        "id": "eV7sxF6Pekfw",
        "outputId": "001a8031-af1f-47eb-82ab-814a47419893"
      },
      "outputs": [
        {
          "output_type": "stream",
          "name": "stdout",
          "text": [
            "Predicted classification for VAR1=0.906 and VAR2=0.606:  Class 1\n"
          ]
        },
        {
          "output_type": "stream",
          "name": "stderr",
          "text": [
            "/usr/local/lib/python3.10/dist-packages/sklearn/cluster/_kmeans.py:870: FutureWarning: The default value of `n_init` will change from 10 to 'auto' in 1.4. Set the value of `n_init` explicitly to suppress the warning\n",
            "  warnings.warn(\n"
          ]
        }
      ],
      "source": [
        "import numpy as np\n",
        "from sklearn.cluster import KMeans\n",
        "# Given data specifying classifications for nine combinations of VAR1 and VAR2\n",
        "data = np.array([[1.713, 1.586, 0],\n",
        " [0.180, 1.786, 1],\n",
        " [0.353, 1.240, 1],\n",
        " [0.940, 1.566, 0],\n",
        " [1.486, 0.759, 1],\n",
        " [1.266, 1.106, 0],\n",
        " [1.540, 0.419, 1],\n",
        " [0.459, 1.799, 1],\n",
        " [0.773, 0.186, 1]])\n",
        "kmeans = KMeans(n_clusters=3, random_state=0)\n",
        "kmeans.fit(data[:, :2])\n",
        "new_case = np.array([[0.906, 0.606]])\n",
        "predicted_cluster = kmeans.predict(new_case)\n",
        "if predicted_cluster == 0:\n",
        " classification = \"Class 1\"\n",
        "elif predicted_cluster == 1:\n",
        " classification = \"Class 2\"\n",
        "else:\n",
        " classification = \"Class 3\"\n",
        "print(\"Predicted classification for VAR1=0.906 and VAR2=0.606: \", classification)"
      ]
    }
  ]
}