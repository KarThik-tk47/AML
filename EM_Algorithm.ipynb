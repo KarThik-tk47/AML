{
  "cells": [
    {
      "cell_type": "markdown",
      "metadata": {
        "id": "view-in-github",
        "colab_type": "text"
      },
      "source": [
        "<a href=\"https://colab.research.google.com/github/KarThik-tk47/AML/blob/main/EM_Algorithm.ipynb\" target=\"_parent\"><img src=\"https://colab.research.google.com/assets/colab-badge.svg\" alt=\"Open In Colab\"/></a>"
      ]
    },
    {
      "cell_type": "code",
      "source": [
        "import pandas as pd\n",
        "import numpy as np\n",
        "from sklearn.mixture import GaussianMixture\n",
        "from sklearn.cluster import KMeans\n",
        "from sklearn.preprocessing import StandardScaler\n",
        "from sklearn.metrics import silhouette_score\n",
        "data = pd.read_csv('D:\\ML\\credit_data.csv')\n",
        "X = data.iloc[:, :-1].values\n",
        "scaler = StandardScaler()\n",
        "X_scaled = scaler.fit_transform(X)\n",
        "em = GaussianMixture(n_components=3)\n",
        "em.fit(X_scaled)\n",
        "em_labels = em.predict(X_scaled)\n",
        "kmeans = KMeans(n_clusters=3)\n",
        "kmeans.fit(X_scaled)\n",
        "kmeans_labels = kmeans.labels_\n",
        "print(\"EM Algorithm Clustering Labels:\")\n",
        "print(em_labels)\n",
        "print(\"K-Means Algorithm Clustering Labels:\")\n",
        "print(kmeans_labels)\n",
        "em_silhouette_score = silhouette_score(X_scaled, em_labels)\n",
        "kmeans_silhouette_score = silhouette_score(X_scaled, kmeans_labels)\n",
        "print(\"Silhouette Score - EM Algorithm: \", em_silhouette_score)\n",
        "print(\"Silhouette Score - K-Means Algorithm: \", kmeans_silhouette_score)"
      ],
      "metadata": {
        "id": "C7S2OVh1ixvd"
      },
      "execution_count": null,
      "outputs": []
    }
  ],
  "metadata": {
    "colab": {
      "provenance": [],
      "include_colab_link": true
    },
    "kernelspec": {
      "display_name": "Python 3",
      "name": "python3"
    }
  },
  "nbformat": 4,
  "nbformat_minor": 0
}