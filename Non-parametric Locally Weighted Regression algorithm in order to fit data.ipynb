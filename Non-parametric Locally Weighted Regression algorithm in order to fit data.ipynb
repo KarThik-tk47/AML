import numpy as np
import matplotlib.pyplot as plt
np.random.seed(0)
X = np.sort(5 * np.random.rand(80, 1), axis=0)
y = np.sin(X).ravel()
y += 0.5 * (np.random.rand(80) - 0.5)
def locally_weighted_regression(X, y, x, tau):
 m, n = X.shape
 X_ = np.hstack((np.ones((m, 1)), X)) # add bias term
 x_ = np.array([[1, x]])
 weights = np.exp(-np.sum((X_ - x_)**2, axis=1) / (2 * tau**2))
 W = np.diag(weights)
 theta = np.linalg.inv(X_.T.dot(W).dot(X_)).dot(X_.T).dot(W).dot(y)
 y_hat = x_.dot(theta)
 return y_hat
tau = 0.3
X_test = np.linspace(0, 5, 100)
y_test = []
for x in X_test:
 y_hat = locally_weighted_regression(X, y, x, tau)
 y_test.append(y_hat)
plt.scatter(X, y, color='blue', label='Data points')
plt.plot(X_test, y_test, color='red', label='LWR')
plt.xlabel('X')
plt.ylabel('y')
plt.title('Locally Weighted Regression')
plt.legend()
plt.show()
