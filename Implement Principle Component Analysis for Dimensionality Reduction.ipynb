import pandas as pd
import numpy as np
from sklearn.decomposition import PCA
from sklearn.preprocessing import StandardScaler
data = pd.read_csv('D:\ML\credit_data.csv')
X = data.iloc[:, :-1].values
scaler = StandardScaler()
X_scaled = scaler.fit_transform(X)
pca = PCA(n_components=2)
X_pca = pca.fit_transform(X_scaled)
print("Reduced Dimensionality Data (First 5 rows):")
print(X_pca[:5, :])
